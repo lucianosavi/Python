{
 "cells": [
  {
   "cell_type": "code",
   "execution_count": 155,
   "id": "3d4e6b36",
   "metadata": {
    "scrolled": true
   },
   "outputs": [],
   "source": [
    "V1=0.000 \n",
    "V2=0.0000\n",
    "CP=0\n",
    "RF=\"S\"\n",
    "QC=0\n",
    "VDP=50\n",
    "VTV=0\n"
   ]
  },
  {
   "cell_type": "code",
   "execution_count": 157,
   "id": "03b2f0b4",
   "metadata": {
    "scrolled": false
   },
   "outputs": [
    {
     "name": "stdout",
     "output_type": "stream",
     "text": [
      "Olá seja bem vindo, por favor comece a passar os produtos\n",
      "5\n",
      "Proximo produto, ou 0 para finalizar\n",
      "4\n",
      "Proximo produto, ou 0 para finalizar\n",
      "0\n",
      "Foi dado o desconto de 5% pelo valor da compra \n",
      "O valor final ficou em 8.55\n",
      "Você acumulou 2  ponto's com essa compra.Acumule-os para ganhar premios!!\n",
      "Funcioario do mercado,o pagamento foi efetivado? 1 para sim e 2 para não\n",
      "1\n",
      "Obrigado e volte sempre!\n",
      "Tivemos 2  satisfeitos hoje\n",
      "Conseguimos até agora 17.1  em vendas\n"
     ]
    }
   ],
   "source": [
    "    print (\"Olá seja bem vindo, por favor comece a passar os produtos\")\n",
    "    V1=float(input())\n",
    "while (V2!=\"0\"):\n",
    "        print (\"Proximo produto, ou 0 para finalizar\")\n",
    "        V2=(input())\n",
    "        V1=float(V1)+ float(V2)\n",
    "        CP=CP+1\n",
    "        \n",
    "    if (V1<VDP):\n",
    "        print (\"Foi dado o desconto de 5% pelo valor da compra \")\n",
    "        V1= V1-(V1*0.05)\n",
    "\n",
    "    if(V1 == VDP):\n",
    "            print (\"Foi dado o desconto de 10% pelo valor da compra \")\n",
    "            V1= V1-(V1*0.1)\n",
    "\n",
    "    if(V1>VDP):\n",
    "        print (\"Foi dado o desconto de 20% pelo valor da compra \")\n",
    "        V1= V1-(V1*0.2)\n",
    "        \n",
    "print(\"O valor final ficou em\",V1)\n",
    "print(\"Você acumulou\",CP,\" ponto's com essa compra.Acumule-os para ganhar premios!!\")\n",
    "    \n",
    "\n",
    "      \n",
    "print (\"Funcioario do mercado,o pagamento foi efetivado? 1 para sim e 2 para não\")\n",
    "    RF=(input())\n",
    "    if (RF==\"1\"):\n",
    "        print(\"Obrigado e volte sempre!\")\n",
    "        VTV=V1+VTV\n",
    "        QC= QC+1\n",
    "        print(\"Tivemos\",QC,\" satisfeitos hoje\")\n",
    "    else:\n",
    "        print(\"Nosso mercado conta com o serviço de reserva por 3 horas para o cliente, se preferir fale com o funcionario e ele o ajudará\")\n",
    "    V2=0\n",
    "    CP=0\n",
    "    print(\"Conseguimos até agora\",VTV,\" em vendas\")\n",
    "\n",
    "\n",
    "    \n"
   ]
  },
  {
   "cell_type": "code",
   "execution_count": null,
   "id": "1c634905",
   "metadata": {},
   "outputs": [],
   "source": []
  },
  {
   "cell_type": "code",
   "execution_count": null,
   "id": "5cfe2ec2",
   "metadata": {},
   "outputs": [],
   "source": []
  },
  {
   "cell_type": "code",
   "execution_count": null,
   "id": "f3b52592",
   "metadata": {},
   "outputs": [],
   "source": []
  },
  {
   "cell_type": "code",
   "execution_count": null,
   "id": "884168ed",
   "metadata": {},
   "outputs": [],
   "source": []
  }
 ],
 "metadata": {
  "kernelspec": {
   "display_name": "Python 3 (ipykernel)",
   "language": "python",
   "name": "python3"
  },
  "language_info": {
   "codemirror_mode": {
    "name": "ipython",
    "version": 3
   },
   "file_extension": ".py",
   "mimetype": "text/x-python",
   "name": "python",
   "nbconvert_exporter": "python",
   "pygments_lexer": "ipython3",
   "version": "3.9.7"
  }
 },
 "nbformat": 4,
 "nbformat_minor": 5
}
